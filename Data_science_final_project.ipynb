{
 "cells": [
  {
   "cell_type": "markdown",
   "id": "5b474eca",
   "metadata": {},
   "source": [
    "# Data Science Final Project\n"
   ]
  },
  {
   "cell_type": "markdown",
   "id": "d5b91188",
   "metadata": {},
   "source": [
    "## Introduction\n",
    "This notebook demonstrates various concepts learned in the Data Science course, including the use of markdown, code cells, and sharing results on GitHub.\n"
   ]
  },
  {
   "cell_type": "markdown",
   "id": "1682a8ea",
   "metadata": {},
   "source": [
    "## Data Science Languages\n",
    "- Python\n",
    "- R\n",
    "- SQL\n",
    "- Julia\n",
    "- Java\n"
   ]
  },
  {
   "cell_type": "markdown",
   "id": "ea31fb09",
   "metadata": {},
   "source": [
    "## Data Science Libraries\n",
    "- NumPy\n",
    "- Pandas\n",
    "- Matplotlib\n",
    "- Seaborn\n",
    "- Scikit-learn\n",
    "- TensorFlow\n",
    "- PyTorch\n"
   ]
  },
  {
   "cell_type": "markdown",
   "id": "9b380287",
   "metadata": {},
   "source": [
    "## Data Science Tools\n",
    "\n",
    "| Tool             | Description                          |\n",
    "|------------------|--------------------------------------|\n",
    "| Jupyter Notebook | Interactive computing environment   |\n",
    "| RStudio          | IDE for R programming               |\n",
    "| Apache Spark     | Big data processing                 |\n",
    "| Tableau          | Data visualization software         |\n"
   ]
  },
  {
   "cell_type": "markdown",
   "id": "a06a8f1e",
   "metadata": {},
   "source": [
    "## Arithmetic Expression Examples\n",
    "Below are examples of basic arithmetic operations, including addition and multiplication.\n"
   ]
  },
  {
   "cell_type": "code",
   "execution_count": null,
   "id": "98f9deb9",
   "metadata": {},
   "outputs": [],
   "source": [
    "# Multiply and add numbers\n",
    "result = (5 * 4) + 3\n",
    "result\n"
   ]
  },
  {
   "cell_type": "code",
   "execution_count": null,
   "id": "8c6f6360",
   "metadata": {},
   "outputs": [],
   "source": [
    "# Convert minutes to hours\n",
    "minutes = 120\n",
    "hours = minutes / 60\n",
    "hours\n"
   ]
  },
  {
   "cell_type": "markdown",
   "id": "95fc69d4",
   "metadata": {},
   "source": [
    "## Objectives\n",
    "- Understand data science tools and libraries.\n",
    "- Perform basic arithmetic operations using Python.\n",
    "- Share notebooks publicly via GitHub.\n"
   ]
  },
  {
   "cell_type": "markdown",
   "id": "7674fe5f",
   "metadata": {},
   "source": [
    "## Author\n",
    "Pranjali Chavan\n"
   ]
  }
 ],
 "metadata": {
  "kernelspec": {
   "display_name": "Python 3 (ipykernel)",
   "language": "python",
   "name": "python3"
  },
  "language_info": {
   "codemirror_mode": {
    "name": "ipython",
    "version": 3
   },
   "file_extension": ".py",
   "mimetype": "text/x-python",
   "name": "python",
   "nbconvert_exporter": "python",
   "pygments_lexer": "ipython3",
   "version": "3.11.4"
  }
 },
 "nbformat": 4,
 "nbformat_minor": 5
}
